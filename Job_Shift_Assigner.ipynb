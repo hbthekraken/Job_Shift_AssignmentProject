{
  "nbformat": 4,
  "nbformat_minor": 0,
  "metadata": {
    "colab": {
      "provenance": [],
      "generative_ai_disabled": true,
      "authorship_tag": "ABX9TyM+z2FNKUWzROWzg3VS0RTh",
      "include_colab_link": true
    },
    "kernelspec": {
      "name": "python3",
      "display_name": "Python 3"
    },
    "language_info": {
      "name": "python"
    }
  },
  "cells": [
    {
      "cell_type": "markdown",
      "metadata": {
        "id": "view-in-github",
        "colab_type": "text"
      },
      "source": [
        "<a href=\"https://colab.research.google.com/github/hbthekraken/Job_Shift_AssignmentProject/blob/main/Job_Shift_Assigner.ipynb\" target=\"_parent\"><img src=\"https://colab.research.google.com/assets/colab-badge.svg\" alt=\"Open In Colab\"/></a>"
      ]
    },
    {
      "cell_type": "markdown",
      "source": [
        "In this code, there is a function which can build concrete Pyomo models. These models can assign jobs that are sequentially processed over a series of processors to the shifts, so they model the planning. These models can also support parallelism for machines. Each job represents a fixed quantity (lot) of parts of the same type that can be done in a shift.\n",
        "\n",
        "Due dates constraints, sequentiality constraints, parallelism constraints etc. are therefore available. With these, the model can be tested (and used) by generating a hypothetical list of parts to be made and then converting them into jobs. Conversion is generally needed because each job must represent what can be done in one shift but more parts might be needed than that."
      ],
      "metadata": {
        "id": "RFhfv4Iphkgc"
      }
    },
    {
      "cell_type": "code",
      "execution_count": 1,
      "metadata": {
        "id": "daflTj_zwWic"
      },
      "outputs": [],
      "source": [
        "import pyomo.environ as pyo\n",
        "import highspy as hp\n",
        "import numpy as np\n",
        "import pandas as pd\n",
        "from matplotlib import pyplot as plt\n",
        "\n",
        "\n",
        "plt.style.use(\"ggplot\")"
      ]
    },
    {
      "cell_type": "markdown",
      "source": [
        "Calling necessary libraries for modelling and testing."
      ],
      "metadata": {
        "id": "No5lAIcPjZjA"
      }
    },
    {
      "cell_type": "code",
      "source": [
        "slvr = \"appsi_highs\"\n",
        "print(pyo.SolverFactory(slvr).available())"
      ],
      "metadata": {
        "colab": {
          "base_uri": "https://localhost:8080/"
        },
        "id": "PlLU3A07wfcR",
        "outputId": "9a51fa87-843f-4240-81c9-04d4af4b5b17"
      },
      "execution_count": 2,
      "outputs": [
        {
          "output_type": "stream",
          "name": "stdout",
          "text": [
            "True\n"
          ]
        }
      ]
    },
    {
      "cell_type": "markdown",
      "source": [
        "Here, we check if the HiGHS solver is available. If it is not, another available solver must be supplied through the variable ```slvr```.\n",
        "\n",
        "\n"
      ],
      "metadata": {
        "id": "9on632D8jejY"
      }
    },
    {
      "cell_type": "code",
      "source": [
        "def build_concr_model(N, K, L, J_NL, alpha_coefficients, d_dates, p_times, sigma_availabilities):\n",
        "  model_ = pyo.ConcreteModel()\n",
        "\n",
        "  # Some model parameters related to index sets\n",
        "  model_.N = pyo.Param(within=pyo.PositiveIntegers, initialize=N)\n",
        "  model_.K = pyo.Param(within=pyo.PositiveIntegers, initialize=K)\n",
        "  model_.L = pyo.Param(within=pyo.PositiveIntegers, initialize=L)\n",
        "\n",
        "  # model index sets here, J_NL being the  subset of J\n",
        "  model_.J = pyo.RangeSet(1, model_.N)\n",
        "  model_.S = pyo.RangeSet(1, model_.K)\n",
        "  model_.M = pyo.RangeSet(1, model_.L)\n",
        "\n",
        "  model_.J_NL = pyo.Set(within=model_.J, initialize=J_NL)\n",
        "\n",
        "  # Decision Variables which are all binary\n",
        "  model_.x = pyo.Var(model_.S, model_.J, model_.M, within=pyo.Binary)\n",
        "\n",
        "  # Actual model parameters related to the problem\n",
        "  model_.alpha = pyo.Param(model_.J, within=pyo.PositiveReals, initialize=alpha_coefficients) # Importance Factors - coefficients\n",
        "  model_.d = pyo.Param(model_.J, within=pyo.PositiveReals, initialize=d_dates) # Due dates for Not-Late jobs, although indexed for all j in J, only the ones for the j in J_NL will be used\n",
        "  model_.p = pyo.Param(model_.J, model_.M, within=pyo.Binary, initialize=p_times) # Processing time for job j on processor/machine on m\n",
        "  model_.sigma = pyo.Param(model_.S, model_.M, within=pyo.NonNegativeReals, initialize=sigma_availabilities) # Availability (can be > 1 if parallel machines exist) of processor-m on shift-s\n",
        "\n",
        "  # Model Objective\n",
        "  def z(_model):\n",
        "    return sum(_model.alpha[_j] * sum(_s * _model.x[_s, _j, _model.L] for _s in _model.S) for _j in _model.J)\n",
        "\n",
        "  model_.objective = pyo.Objective(rule=z, sense=pyo.minimize)\n",
        "\n",
        "  # Constraints:\n",
        "  # Enforcing due dates:\n",
        "  def EnforceDueDates(_model, _j_NL):\n",
        "    return sum(_s * _model.x[_s, _j_NL, _model.L] for _s in _model.S) <= _model.d[_j_NL]\n",
        "\n",
        "  # Machining time constraint\n",
        "  def MachineTimeConstraint(_model, _s, _m):\n",
        "    return sum(_model.p[_j, _m] * _model.x[_s, _j, _m] for _j in _model.J) <= _model.sigma[_s, _m]\n",
        "\n",
        "  # One Shift for One process Constraint\n",
        "  def OneShiftConstraint(_model, _j, _m):\n",
        "    return sum(_model.x[_s, _j, _m] for _s in _model.S) == 1\n",
        "\n",
        "  # Sequantieal Machining Constraint\n",
        "  def SequentialityConstraint(_model, _j, _m):\n",
        "    if _m < _model.L:\n",
        "      return _model.p[_j, _m] + sum(_s * (_model.x[_s, _j, _m] - _model.x[_s, _j, _m + 1]) for _s in _model.S) <= 0.0\n",
        "    else:\n",
        "      return pyo.Constraint.Skip\n",
        "\n",
        "  model_.EnforceDueDates = pyo.Constraint(model_.J_NL, rule=EnforceDueDates)\n",
        "  model_.MachineTimeLimit = pyo.Constraint(model_.S, model_.M, rule=MachineTimeConstraint)\n",
        "  model_.OneShiftRule = pyo.Constraint(model_.J, model_.M, rule=OneShiftConstraint)\n",
        "  model_.SequentialityConstraint = pyo.Constraint(model_.J, model_.M, rule=SequentialityConstraint)\n",
        "  return model_"
      ],
      "metadata": {
        "id": "xZ1nYAeQKbuK"
      },
      "execution_count": 3,
      "outputs": []
    },
    {
      "cell_type": "markdown",
      "source": [
        "This is the function that takes the data (parameters of the model) as input and outputs a concrete Pyomo model. The details of the model and the program can be found at [the Github repo of the project](https://github.com/hbthekraken/Job_Shift_AssignmentProject)."
      ],
      "metadata": {
        "id": "nfhF3XyVkDCH"
      }
    },
    {
      "cell_type": "code",
      "source": [
        "def prod_to_jobs(prod_df):\n",
        "  jobs = {}\n",
        "  N = len(prod_df.index)\n",
        "  job_count = 0\n",
        "  product_count = 0\n",
        "  while N > 0:\n",
        "    name = prod_df.index[product_count]\n",
        "    a_product = prod_df.iloc[product_count]\n",
        "    Qty, LS, DT, alpha = tuple(a_product)\n",
        "    Qty, LS = int(Qty), int(LS)\n",
        "    if Qty % LS == 0:\n",
        "      k = Qty // LS\n",
        "      for i in range(k):\n",
        "        jobs[job_count] = (str(name) + f'_{i}', int(LS), int(DT), alpha, job_count) # for a job, in the strict technical sense,\n",
        "        # processing time, due time, importance factor, and its assigned shift are required to be defined\n",
        "        # name and part count are present for convenience\n",
        "        job_count += 1\n",
        "    elif Qty < LS:\n",
        "      if Qty / LS >= 0.5 and alpha > 1.5:\n",
        "        jobs[job_count] = (str(name), int(LS), int(DT), alpha, job_count)\n",
        "      else:\n",
        "        pass\n",
        "    elif Qty > LS:\n",
        "      if alpha >= 1.0:\n",
        "        k = 1 + (Qty // LS)\n",
        "        for i in range(k):\n",
        "          jobs[job_count] = (str(name) + f'_{i}', int(LS), int(DT), alpha, job_count)\n",
        "          job_count += 1\n",
        "      else:\n",
        "        k = Qty // LS\n",
        "        for i in range(k):\n",
        "          jobs[job_count] = (str(name) + f'_{i}', int(LS), int(DT), alpha, job_count)\n",
        "          job_count += 1\n",
        "    else:\n",
        "      raise Exception(\"Unknown error.\")\n",
        "\n",
        "    N -= 1\n",
        "    product_count += 1\n",
        "  return pd.DataFrame(jobs, index=[\"OpName\", \"LotSize\", \"DueTime\", \"Imp.Factor\", \"AssignedShifts\"]).transpose()"
      ],
      "metadata": {
        "id": "cLEyVZB0sMmR"
      },
      "execution_count": 13,
      "outputs": []
    },
    {
      "cell_type": "markdown",
      "source": [
        "This function ```prod_to_jobs``` takes a Pandas Dataframe that contains a list of products that have the following attributes:\n",
        "1. Quantity: The quantity of the product requested.\n",
        "2. Lot size: The number of products that can be produced in one shift with one processor.\n",
        "3. Due time: Products production completion due date in shifts. E.g., if there are 3 shifts per day and 5 days before the completion is due, then due time of the product is 15 shifts.\n",
        "4. Importance Factor: Apart from the due times, an importance factor helps planning process to prioritize some products' production before others. This can also be used to make products that are late already to be produced first by giving them a very large coefficients.\n",
        "\n",
        "Then it outputs another DataFrame that contains a list of jobs and their parameters that can be used for the job-specific parameters.\n",
        "Shift specific parameters are generally required to be given during the actual production planning.\n"
      ],
      "metadata": {
        "id": "mT4s4rhWlV6M"
      }
    },
    {
      "cell_type": "code",
      "source": [
        "gen = np.random.default_rng()\n",
        "test_product_number = 10\n",
        "# all test data are generated here randomly\n",
        "test_data = np.array([\n",
        "    [gen.integers(low=1, high=19), gen.integers(low=1, high=16), gen.integers(low=1, high=26), gen.uniform(0.1, 5.0)] for _ in range(test_product_number)])\n",
        "\n",
        "# These numbers are used to 'name' the products, actual names of the products can take this place\n",
        "prod_numbers = np.arange(100, 1000)\n",
        "gen.shuffle(prod_numbers)\n",
        "prod = pd.DataFrame(test_data, columns=[\"Quantity\", \"LotSize\", \"DueTime\", \"ImportanceFactor\"], index=[f'Part--{prod_numbers[i]}' for i in range(len(test_data))])\n",
        "print(prod)"
      ],
      "metadata": {
        "colab": {
          "base_uri": "https://localhost:8080/"
        },
        "id": "Jd2ret1KsPKQ",
        "outputId": "670bf4e9-7f46-4636-ce51-51c7d14c95d1"
      },
      "execution_count": 14,
      "outputs": [
        {
          "output_type": "stream",
          "name": "stdout",
          "text": [
            "           Quantity  LotSize  DueTime  ImportanceFactor\n",
            "Part--649      12.0      7.0      5.0          1.734115\n",
            "Part--100      17.0     11.0      6.0          4.092460\n",
            "Part--566      11.0      1.0     22.0          1.518779\n",
            "Part--267       2.0      4.0     11.0          4.365785\n",
            "Part--556       9.0     14.0     15.0          3.002049\n",
            "Part--694       7.0      6.0      5.0          3.406632\n",
            "Part--987       6.0      6.0     10.0          3.818443\n",
            "Part--643       9.0      9.0     12.0          2.262658\n",
            "Part--577      14.0     14.0     15.0          3.822975\n",
            "Part--575       9.0     12.0     11.0          0.190099\n"
          ]
        }
      ]
    },
    {
      "cell_type": "markdown",
      "source": [
        "Above block generates and prints some test data, a DataFrame of products that have the aforementioned attributes."
      ],
      "metadata": {
        "id": "s7GW3brLtGXu"
      }
    },
    {
      "cell_type": "code",
      "source": [
        "jobs_df = prod_to_jobs(prod)\n",
        "jobs_df.iloc[-10:, :]"
      ],
      "metadata": {
        "colab": {
          "base_uri": "https://localhost:8080/",
          "height": 363
        },
        "id": "Fd9mxVuSsRGC",
        "outputId": "fe7bc4f7-36a6-428e-8fd8-7b7a9d31c7e9"
      },
      "execution_count": 32,
      "outputs": [
        {
          "output_type": "execute_result",
          "data": {
            "text/plain": [
              "          OpName LotSize DueTime Imp.Factor AssignedShifts\n",
              "10   Part--566_6       1      22   1.518779             10\n",
              "11   Part--566_7       1      22   1.518779             11\n",
              "12   Part--566_8       1      22   1.518779             12\n",
              "13   Part--566_9       1      22   1.518779             13\n",
              "14  Part--566_10       1      22   1.518779             14\n",
              "15   Part--694_0       6       5   3.406632             15\n",
              "16   Part--694_1       6       5   3.406632             16\n",
              "17   Part--987_0       6      10   3.818443             17\n",
              "18   Part--643_0       9      12   2.262658             18\n",
              "19   Part--577_0      14      15   3.822975             19"
            ],
            "text/html": [
              "\n",
              "  <div id=\"df-ed624118-700f-474f-96bb-9ffb85678d91\" class=\"colab-df-container\">\n",
              "    <div>\n",
              "<style scoped>\n",
              "    .dataframe tbody tr th:only-of-type {\n",
              "        vertical-align: middle;\n",
              "    }\n",
              "\n",
              "    .dataframe tbody tr th {\n",
              "        vertical-align: top;\n",
              "    }\n",
              "\n",
              "    .dataframe thead th {\n",
              "        text-align: right;\n",
              "    }\n",
              "</style>\n",
              "<table border=\"1\" class=\"dataframe\">\n",
              "  <thead>\n",
              "    <tr style=\"text-align: right;\">\n",
              "      <th></th>\n",
              "      <th>OpName</th>\n",
              "      <th>LotSize</th>\n",
              "      <th>DueTime</th>\n",
              "      <th>Imp.Factor</th>\n",
              "      <th>AssignedShifts</th>\n",
              "    </tr>\n",
              "  </thead>\n",
              "  <tbody>\n",
              "    <tr>\n",
              "      <th>10</th>\n",
              "      <td>Part--566_6</td>\n",
              "      <td>1</td>\n",
              "      <td>22</td>\n",
              "      <td>1.518779</td>\n",
              "      <td>10</td>\n",
              "    </tr>\n",
              "    <tr>\n",
              "      <th>11</th>\n",
              "      <td>Part--566_7</td>\n",
              "      <td>1</td>\n",
              "      <td>22</td>\n",
              "      <td>1.518779</td>\n",
              "      <td>11</td>\n",
              "    </tr>\n",
              "    <tr>\n",
              "      <th>12</th>\n",
              "      <td>Part--566_8</td>\n",
              "      <td>1</td>\n",
              "      <td>22</td>\n",
              "      <td>1.518779</td>\n",
              "      <td>12</td>\n",
              "    </tr>\n",
              "    <tr>\n",
              "      <th>13</th>\n",
              "      <td>Part--566_9</td>\n",
              "      <td>1</td>\n",
              "      <td>22</td>\n",
              "      <td>1.518779</td>\n",
              "      <td>13</td>\n",
              "    </tr>\n",
              "    <tr>\n",
              "      <th>14</th>\n",
              "      <td>Part--566_10</td>\n",
              "      <td>1</td>\n",
              "      <td>22</td>\n",
              "      <td>1.518779</td>\n",
              "      <td>14</td>\n",
              "    </tr>\n",
              "    <tr>\n",
              "      <th>15</th>\n",
              "      <td>Part--694_0</td>\n",
              "      <td>6</td>\n",
              "      <td>5</td>\n",
              "      <td>3.406632</td>\n",
              "      <td>15</td>\n",
              "    </tr>\n",
              "    <tr>\n",
              "      <th>16</th>\n",
              "      <td>Part--694_1</td>\n",
              "      <td>6</td>\n",
              "      <td>5</td>\n",
              "      <td>3.406632</td>\n",
              "      <td>16</td>\n",
              "    </tr>\n",
              "    <tr>\n",
              "      <th>17</th>\n",
              "      <td>Part--987_0</td>\n",
              "      <td>6</td>\n",
              "      <td>10</td>\n",
              "      <td>3.818443</td>\n",
              "      <td>17</td>\n",
              "    </tr>\n",
              "    <tr>\n",
              "      <th>18</th>\n",
              "      <td>Part--643_0</td>\n",
              "      <td>9</td>\n",
              "      <td>12</td>\n",
              "      <td>2.262658</td>\n",
              "      <td>18</td>\n",
              "    </tr>\n",
              "    <tr>\n",
              "      <th>19</th>\n",
              "      <td>Part--577_0</td>\n",
              "      <td>14</td>\n",
              "      <td>15</td>\n",
              "      <td>3.822975</td>\n",
              "      <td>19</td>\n",
              "    </tr>\n",
              "  </tbody>\n",
              "</table>\n",
              "</div>\n",
              "    <div class=\"colab-df-buttons\">\n",
              "\n",
              "  <div class=\"colab-df-container\">\n",
              "    <button class=\"colab-df-convert\" onclick=\"convertToInteractive('df-ed624118-700f-474f-96bb-9ffb85678d91')\"\n",
              "            title=\"Convert this dataframe to an interactive table.\"\n",
              "            style=\"display:none;\">\n",
              "\n",
              "  <svg xmlns=\"http://www.w3.org/2000/svg\" height=\"24px\" viewBox=\"0 -960 960 960\">\n",
              "    <path d=\"M120-120v-720h720v720H120Zm60-500h600v-160H180v160Zm220 220h160v-160H400v160Zm0 220h160v-160H400v160ZM180-400h160v-160H180v160Zm440 0h160v-160H620v160ZM180-180h160v-160H180v160Zm440 0h160v-160H620v160Z\"/>\n",
              "  </svg>\n",
              "    </button>\n",
              "\n",
              "  <style>\n",
              "    .colab-df-container {\n",
              "      display:flex;\n",
              "      gap: 12px;\n",
              "    }\n",
              "\n",
              "    .colab-df-convert {\n",
              "      background-color: #E8F0FE;\n",
              "      border: none;\n",
              "      border-radius: 50%;\n",
              "      cursor: pointer;\n",
              "      display: none;\n",
              "      fill: #1967D2;\n",
              "      height: 32px;\n",
              "      padding: 0 0 0 0;\n",
              "      width: 32px;\n",
              "    }\n",
              "\n",
              "    .colab-df-convert:hover {\n",
              "      background-color: #E2EBFA;\n",
              "      box-shadow: 0px 1px 2px rgba(60, 64, 67, 0.3), 0px 1px 3px 1px rgba(60, 64, 67, 0.15);\n",
              "      fill: #174EA6;\n",
              "    }\n",
              "\n",
              "    .colab-df-buttons div {\n",
              "      margin-bottom: 4px;\n",
              "    }\n",
              "\n",
              "    [theme=dark] .colab-df-convert {\n",
              "      background-color: #3B4455;\n",
              "      fill: #D2E3FC;\n",
              "    }\n",
              "\n",
              "    [theme=dark] .colab-df-convert:hover {\n",
              "      background-color: #434B5C;\n",
              "      box-shadow: 0px 1px 3px 1px rgba(0, 0, 0, 0.15);\n",
              "      filter: drop-shadow(0px 1px 2px rgba(0, 0, 0, 0.3));\n",
              "      fill: #FFFFFF;\n",
              "    }\n",
              "  </style>\n",
              "\n",
              "    <script>\n",
              "      const buttonEl =\n",
              "        document.querySelector('#df-ed624118-700f-474f-96bb-9ffb85678d91 button.colab-df-convert');\n",
              "      buttonEl.style.display =\n",
              "        google.colab.kernel.accessAllowed ? 'block' : 'none';\n",
              "\n",
              "      async function convertToInteractive(key) {\n",
              "        const element = document.querySelector('#df-ed624118-700f-474f-96bb-9ffb85678d91');\n",
              "        const dataTable =\n",
              "          await google.colab.kernel.invokeFunction('convertToInteractive',\n",
              "                                                    [key], {});\n",
              "        if (!dataTable) return;\n",
              "\n",
              "        const docLinkHtml = 'Like what you see? Visit the ' +\n",
              "          '<a target=\"_blank\" href=https://colab.research.google.com/notebooks/data_table.ipynb>data table notebook</a>'\n",
              "          + ' to learn more about interactive tables.';\n",
              "        element.innerHTML = '';\n",
              "        dataTable['output_type'] = 'display_data';\n",
              "        await google.colab.output.renderOutput(dataTable, element);\n",
              "        const docLink = document.createElement('div');\n",
              "        docLink.innerHTML = docLinkHtml;\n",
              "        element.appendChild(docLink);\n",
              "      }\n",
              "    </script>\n",
              "  </div>\n",
              "\n",
              "\n",
              "    <div id=\"df-52f8bc0c-1393-4076-9168-fdf174606064\">\n",
              "      <button class=\"colab-df-quickchart\" onclick=\"quickchart('df-52f8bc0c-1393-4076-9168-fdf174606064')\"\n",
              "                title=\"Suggest charts\"\n",
              "                style=\"display:none;\">\n",
              "\n",
              "<svg xmlns=\"http://www.w3.org/2000/svg\" height=\"24px\"viewBox=\"0 0 24 24\"\n",
              "     width=\"24px\">\n",
              "    <g>\n",
              "        <path d=\"M19 3H5c-1.1 0-2 .9-2 2v14c0 1.1.9 2 2 2h14c1.1 0 2-.9 2-2V5c0-1.1-.9-2-2-2zM9 17H7v-7h2v7zm4 0h-2V7h2v10zm4 0h-2v-4h2v4z\"/>\n",
              "    </g>\n",
              "</svg>\n",
              "      </button>\n",
              "\n",
              "<style>\n",
              "  .colab-df-quickchart {\n",
              "      --bg-color: #E8F0FE;\n",
              "      --fill-color: #1967D2;\n",
              "      --hover-bg-color: #E2EBFA;\n",
              "      --hover-fill-color: #174EA6;\n",
              "      --disabled-fill-color: #AAA;\n",
              "      --disabled-bg-color: #DDD;\n",
              "  }\n",
              "\n",
              "  [theme=dark] .colab-df-quickchart {\n",
              "      --bg-color: #3B4455;\n",
              "      --fill-color: #D2E3FC;\n",
              "      --hover-bg-color: #434B5C;\n",
              "      --hover-fill-color: #FFFFFF;\n",
              "      --disabled-bg-color: #3B4455;\n",
              "      --disabled-fill-color: #666;\n",
              "  }\n",
              "\n",
              "  .colab-df-quickchart {\n",
              "    background-color: var(--bg-color);\n",
              "    border: none;\n",
              "    border-radius: 50%;\n",
              "    cursor: pointer;\n",
              "    display: none;\n",
              "    fill: var(--fill-color);\n",
              "    height: 32px;\n",
              "    padding: 0;\n",
              "    width: 32px;\n",
              "  }\n",
              "\n",
              "  .colab-df-quickchart:hover {\n",
              "    background-color: var(--hover-bg-color);\n",
              "    box-shadow: 0 1px 2px rgba(60, 64, 67, 0.3), 0 1px 3px 1px rgba(60, 64, 67, 0.15);\n",
              "    fill: var(--button-hover-fill-color);\n",
              "  }\n",
              "\n",
              "  .colab-df-quickchart-complete:disabled,\n",
              "  .colab-df-quickchart-complete:disabled:hover {\n",
              "    background-color: var(--disabled-bg-color);\n",
              "    fill: var(--disabled-fill-color);\n",
              "    box-shadow: none;\n",
              "  }\n",
              "\n",
              "  .colab-df-spinner {\n",
              "    border: 2px solid var(--fill-color);\n",
              "    border-color: transparent;\n",
              "    border-bottom-color: var(--fill-color);\n",
              "    animation:\n",
              "      spin 1s steps(1) infinite;\n",
              "  }\n",
              "\n",
              "  @keyframes spin {\n",
              "    0% {\n",
              "      border-color: transparent;\n",
              "      border-bottom-color: var(--fill-color);\n",
              "      border-left-color: var(--fill-color);\n",
              "    }\n",
              "    20% {\n",
              "      border-color: transparent;\n",
              "      border-left-color: var(--fill-color);\n",
              "      border-top-color: var(--fill-color);\n",
              "    }\n",
              "    30% {\n",
              "      border-color: transparent;\n",
              "      border-left-color: var(--fill-color);\n",
              "      border-top-color: var(--fill-color);\n",
              "      border-right-color: var(--fill-color);\n",
              "    }\n",
              "    40% {\n",
              "      border-color: transparent;\n",
              "      border-right-color: var(--fill-color);\n",
              "      border-top-color: var(--fill-color);\n",
              "    }\n",
              "    60% {\n",
              "      border-color: transparent;\n",
              "      border-right-color: var(--fill-color);\n",
              "    }\n",
              "    80% {\n",
              "      border-color: transparent;\n",
              "      border-right-color: var(--fill-color);\n",
              "      border-bottom-color: var(--fill-color);\n",
              "    }\n",
              "    90% {\n",
              "      border-color: transparent;\n",
              "      border-bottom-color: var(--fill-color);\n",
              "    }\n",
              "  }\n",
              "</style>\n",
              "\n",
              "      <script>\n",
              "        async function quickchart(key) {\n",
              "          const quickchartButtonEl =\n",
              "            document.querySelector('#' + key + ' button');\n",
              "          quickchartButtonEl.disabled = true;  // To prevent multiple clicks.\n",
              "          quickchartButtonEl.classList.add('colab-df-spinner');\n",
              "          try {\n",
              "            const charts = await google.colab.kernel.invokeFunction(\n",
              "                'suggestCharts', [key], {});\n",
              "          } catch (error) {\n",
              "            console.error('Error during call to suggestCharts:', error);\n",
              "          }\n",
              "          quickchartButtonEl.classList.remove('colab-df-spinner');\n",
              "          quickchartButtonEl.classList.add('colab-df-quickchart-complete');\n",
              "        }\n",
              "        (() => {\n",
              "          let quickchartButtonEl =\n",
              "            document.querySelector('#df-52f8bc0c-1393-4076-9168-fdf174606064 button');\n",
              "          quickchartButtonEl.style.display =\n",
              "            google.colab.kernel.accessAllowed ? 'block' : 'none';\n",
              "        })();\n",
              "      </script>\n",
              "    </div>\n",
              "\n",
              "    </div>\n",
              "  </div>\n"
            ],
            "application/vnd.google.colaboratory.intrinsic+json": {
              "type": "dataframe",
              "repr_error": "0"
            }
          },
          "metadata": {},
          "execution_count": 32
        }
      ]
    },
    {
      "cell_type": "markdown",
      "source": [
        "This block shows the list of jobs that are created from the above products data. It is formed by the function ```prod_to_jobs```."
      ],
      "metadata": {
        "id": "MSJXr3PjtX9Y"
      }
    },
    {
      "cell_type": "code",
      "source": [
        "number_of_jobs = len(jobs_df.OpName)\n",
        "number_of_shifts = np.max(jobs_df.AssignedShifts)\n",
        "number_of_machines = 4\n",
        "\n",
        "importance_factors = jobs_df[\"Imp.Factor\"].values\n",
        "due_dates = jobs_df[\"DueTime\"].values\n",
        "proc_time = np.ones((number_of_jobs, number_of_machines,), dtype=int)\n",
        "available_machines = 2 * np.ones((number_of_shifts, number_of_machines,), dtype=int)\n",
        "due_enforced = tuple() # Empty set for now, so no due times are enforced\n",
        "\n",
        "Jobs2Plan_model = build_concr_model(number_of_jobs, number_of_shifts, number_of_machines,\n",
        "                                    due_enforced,\n",
        "                                    {i + 1 : importance_factors[i] for i in range(importance_factors.shape[0])},\n",
        "                                    {i + 1 : due_dates[i] for i in range(due_dates.shape[0])},\n",
        "                                    {(i + 1, j + 1) : proc_time[i, j] for i in range(proc_time.shape[0]) for j in range(proc_time.shape[1])},\n",
        "                                    {(i + 1, j + 1) : available_machines[i, j] for i in range(available_machines.shape[0]) for j in range(available_machines.shape[1])}\n",
        "                                    )"
      ],
      "metadata": {
        "id": "dkZqalaoMhO-"
      },
      "execution_count": 33,
      "outputs": []
    },
    {
      "cell_type": "markdown",
      "source": [
        "Here, the parameters are formed and fed into the concrete model builder function. It builds our BILP model that models the optimal assignment problem."
      ],
      "metadata": {
        "id": "RlcSX8FWveuo"
      }
    },
    {
      "cell_type": "code",
      "source": [
        "opt = pyo.SolverFactory(slvr)\n",
        "resulting_plan = opt.solve(Jobs2Plan_model, tee=True)"
      ],
      "metadata": {
        "colab": {
          "base_uri": "https://localhost:8080/"
        },
        "id": "mcQJEy8bmVwG",
        "outputId": "14c401e5-f598-4bc2-8eb3-49d980b360ef"
      },
      "execution_count": 34,
      "outputs": [
        {
          "output_type": "stream",
          "name": "stdout",
          "text": [
            "Running HiGHS 1.11.0 (git hash: 364c83a): Copyright (c) 2025 HiGHS under MIT licence terms\n",
            "MIP  has 216 rows; 1520 cols; 5320 nonzeros; 1520 integer variables (1520 binary)\n",
            "Coefficient ranges:\n",
            "  Matrix [1e+00, 2e+01]\n",
            "  Cost   [2e+00, 8e+01]\n",
            "  Bound  [1e+00, 1e+00]\n",
            "  RHS    [1e+00, 2e+00]\n",
            "Presolving model\n",
            "216 rows, 1520 cols, 5320 nonzeros  0s\n",
            "204 rows, 1280 cols, 4360 nonzeros  0s\n",
            "\n",
            "Solving MIP model with:\n",
            "   204 rows\n",
            "   1280 cols (1280 binary, 0 integer, 0 implied int., 0 continuous, 0 domain fixed)\n",
            "   4360 nonzeros\n",
            "\n",
            "Src: B => Branching; C => Central rounding; F => Feasibility pump; J => Feasibility jump;\n",
            "     H => Heuristic; L => Sub-MIP; P => Empty MIP; R => Randomized rounding; Z => ZI Round;\n",
            "     I => Shifting; S => Solve LP; T => Evaluate node; U => Unbounded; X => User solution;\n",
            "     z => Trivial zero; l => Trivial lower; u => Trivial upper; p => Trivial point\n",
            "\n",
            "        Nodes      |    B&B Tree     |            Objective Bounds              |  Dynamic Constraints |       Work      \n",
            "Src  Proc. InQueue |  Leaves   Expl. | BestBound       BestSol              Gap |   Cuts   InLp Confl. | LpIters     Time\n",
            "\n",
            " J       0       0         0   0.00%   -inf            545.2170671        Large        0      0      0         0     0.1s\n",
            "         0       0         0   0.00%   332.8926291     545.2170671       38.94%        0      0      5       575     0.1s\n",
            " L       0       0         0   0.00%   332.8926291     332.8926291        0.00%     1025    150     22      4240     0.8s\n",
            " T       0       0         0   0.00%   332.8926291     332.8926291        0.00%     1025    150     22      4463     0.8s\n",
            "         1       0         1 100.00%   332.8926291     332.8926291        0.00%     1025    150     22      4463     0.8s\n",
            "\n",
            "Solving report\n",
            "  Status            Optimal\n",
            "  Primal bound      332.892629137\n",
            "  Dual bound        332.892629137\n",
            "  Gap               0% (tolerance: 0.01%)\n",
            "  P-D integral      0.295639141896\n",
            "  Solution status   feasible\n",
            "                    332.892629137 (objective)\n",
            "                    0 (bound viol.)\n",
            "                    6.32827124036e-14 (int. viol.)\n",
            "                    0 (row viol.)\n",
            "  Timing            0.85 (total)\n",
            "                    0.00 (presolve)\n",
            "                    0.00 (solve)\n",
            "                    0.00 (postsolve)\n",
            "  Max sub-MIP depth 1\n",
            "  Nodes             1\n",
            "  Repair LPs        0 (0 feasible; 0 iterations)\n",
            "  LP iterations     4463 (total)\n",
            "                    0 (strong br.)\n",
            "                    3665 (separation)\n",
            "                    223 (heuristics)\n"
          ]
        }
      ]
    },
    {
      "cell_type": "markdown",
      "source": [
        "Above, the solver is called to solve the model. All details of the solution are printed since the argument ```tee``` is ```True```."
      ],
      "metadata": {
        "id": "vGyk-dvgyO5C"
      }
    },
    {
      "cell_type": "code",
      "source": [
        "optimal_sol = Jobs2Plan_model.x.extract_values()\n",
        "\n",
        "for _j in range(number_of_jobs):\n",
        "  assigned_shift = \"(\"\n",
        "  for _m in range(number_of_machines):\n",
        "    s = sum([(_s + 1) * round(optimal_sol[(_s +  1, _j + 1, _m + 1)]) for _s in range(number_of_shifts)])\n",
        "    assigned_shift += f\"{s}, \"\n",
        "  assigned_shift += \")\"\n",
        "  jobs_df.loc[_j, \"AssignedShifts\"] = assigned_shift\n",
        "\n",
        "print(jobs_df)"
      ],
      "metadata": {
        "colab": {
          "base_uri": "https://localhost:8080/"
        },
        "id": "nxCL-HNXyN9G",
        "outputId": "d8c7e1aa-0a57-4e09-f4f8-488149bd4ee0"
      },
      "execution_count": 38,
      "outputs": [
        {
          "output_type": "stream",
          "name": "stdout",
          "text": [
            "          OpName LotSize DueTime Imp.Factor      AssignedShifts\n",
            "0    Part--649_0       7       5   1.734115      (5, 6, 7, 8, )\n",
            "1    Part--649_1       7       5   1.734115      (4, 5, 6, 7, )\n",
            "2    Part--100_0      11       6    4.09246      (1, 2, 3, 4, )\n",
            "3    Part--100_1      11       6    4.09246      (1, 2, 3, 4, )\n",
            "4    Part--566_0       1      22   1.518779     (7, 8, 9, 10, )\n",
            "5    Part--566_1       1      22   1.518779  (10, 11, 12, 13, )\n",
            "6    Part--566_2       1      22   1.518779   (9, 10, 11, 12, )\n",
            "7    Part--566_3       1      22   1.518779   (9, 10, 11, 12, )\n",
            "8    Part--566_4       1      22   1.518779    (8, 9, 10, 11, )\n",
            "9    Part--566_5       1      22   1.518779      (6, 7, 8, 9, )\n",
            "10   Part--566_6       1      22   1.518779  (10, 11, 12, 13, )\n",
            "11   Part--566_7       1      22   1.518779      (6, 7, 8, 9, )\n",
            "12   Part--566_8       1      22   1.518779      (5, 6, 7, 8, )\n",
            "13   Part--566_9       1      22   1.518779     (7, 8, 9, 10, )\n",
            "14  Part--566_10       1      22   1.518779    (8, 9, 10, 11, )\n",
            "15   Part--694_0       6       5   3.406632      (3, 4, 5, 6, )\n",
            "16   Part--694_1       6       5   3.406632      (3, 4, 5, 6, )\n",
            "17   Part--987_0       6      10   3.818443      (2, 3, 4, 5, )\n",
            "18   Part--643_0       9      12   2.262658      (4, 5, 6, 7, )\n",
            "19   Part--577_0      14      15   3.822975      (2, 3, 4, 5, )\n"
          ]
        }
      ]
    },
    {
      "cell_type": "markdown",
      "source": [
        "Here, the optimal solution is converted back to meaningful data and it is merged into the DataFrame of jobs. So, the shifts each job assigned to in the optimal plan can be seen in the last column."
      ],
      "metadata": {
        "id": "sGiNCXFi6sVH"
      }
    }
  ]
}